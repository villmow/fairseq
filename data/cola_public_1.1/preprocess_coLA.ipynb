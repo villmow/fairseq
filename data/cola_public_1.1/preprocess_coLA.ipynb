{
 "cells": [
  {
   "cell_type": "markdown",
   "metadata": {},
   "source": [
    "# coLA\n",
    "\n",
    "Taken from [https://nyu-mll.github.io/CoLA/](https://nyu-mll.github.io/CoLA/).\n",
    "\n",
    "## Split\n",
    "\n",
    "We have split the data into an in-domain set with sentences from 17 sources and an out-of-domain set with the remaining 6 sources. The in-domain set is split into train/dev/test sections, and the out-of-domain set is split into dev/test sections. The test sets are not made public. For convenience, each dataset is provided is provided twice, in raw form and in tokenized form (from the NLTK tokenizer). The public data is split into the following files:\n",
    "\n",
    "- raw/in_domain_train.tsv (8551 lines)\n",
    "- raw/in_domain_dev.tsv (527 lines)\n",
    "- raw/out_of_domain_dev.tsv (516 lines)\n",
    "- tokenized/in_domain_train.tsv (8551 lines)\n",
    "- tokenized/in_domain_dev.tsv (527 lines)\n",
    "- tokenized/out_of_domain_dev.tsv (516 lines)\n",
    "\n",
    "## Data Format\n",
    "\n",
    "Each line in the .tsv files consists of 4 tab-separated columns.\n",
    "- Column 1:\tthe code representing the source of the sentence.\n",
    "- Column 2:\tthe acceptability judgment label (0=unacceptable, 1=acceptable).\n",
    "- Column 3:\tthe acceptability judgment as originally notated by the author.\n",
    "- Column 4:\tthe sentence.\n",
    "\n",
    "\n",
    "## Corpus Sample\n",
    "\n",
    "- clc95\t0\t*\tIn which way is Sandy very anxious to see if the students will be able to solve the homework problem?\n",
    "- c-05\t1\t\tThe book was written by John.\n",
    "- c-05\t0\t*\tBooks were sent to each other by the students.\n",
    "- swb04\t1\t\tShe voted for herself.\n",
    "- swb04\t1\t\tI saw that gas can explode.\n",
    "\n",
    "## Processing\n",
    "\n",
    "During gathering of the data and processing, some sentences from the source documents may have been omitted or altered. We retained all acceptable examples, and excluded any examples given intermediate judgments such as “?” or “#”. In addition, we excluded examples of unacceptable sentences not suitable for the present task because they required reasoning about pragmatic violations, unavailable semantic readings, or nonexistent words. We take responsibility for any errors."
   ]
  },
  {
   "cell_type": "code",
   "execution_count": 1,
   "metadata": {},
   "outputs": [],
   "source": [
    "import pathlib as pl\n",
    "import csv\n",
    "from typing import Union, List, Tuple"
   ]
  },
  {
   "cell_type": "code",
   "execution_count": 2,
   "metadata": {},
   "outputs": [],
   "source": [
    "cola_path = pl.Path(\"./cola_public/raw\")"
   ]
  },
  {
   "cell_type": "code",
   "execution_count": 3,
   "metadata": {},
   "outputs": [],
   "source": [
    "def read_cola_tsv(filepath: Union[str, pl.Path]) -> List[Tuple[str, str, str, str]]:\n",
    "    data = []\n",
    "\n",
    "    with open(filepath, \"rt\", newline='') as tsvfile:\n",
    "        reader = csv.reader(tsvfile, delimiter=\"\\t\")\n",
    "\n",
    "        for row in reader:\n",
    "            data.append(row)\n",
    "    \n",
    "    return data"
   ]
  },
  {
   "cell_type": "code",
   "execution_count": 4,
   "metadata": {},
   "outputs": [],
   "source": [
    "def save_cola_data_in_fairseq_format(data: List[Tuple[str, str, str, str]], filename: str, directory: str = \".\"):\n",
    "    outdir = pl.Path(directory)\n",
    "    sentence_file = outdir / filename\n",
    "    label_file = outdir / (filename + \".lbl\")\n",
    "    \n",
    "    with sentence_file.open(\"wt\") as s_file, label_file.open(\"wt\") as l_file:\n",
    "        for _, label, _, sentence in data:\n",
    "            s_file.write(sentence + \"\\n\")\n",
    "            l_file.write(label + \"\\n\")"
   ]
  },
  {
   "cell_type": "code",
   "execution_count": 5,
   "metadata": {},
   "outputs": [
    {
     "data": {
      "text/plain": [
       "[['gj04',\n",
       "  '1',\n",
       "  '',\n",
       "  \"Our friends won't buy this analysis, let alone the next one we propose.\"],\n",
       " ['gj04', '1', '', \"One more pseudo generalization and I'm giving up.\"],\n",
       " ['gj04', '1', '', \"One more pseudo generalization or I'm giving up.\"],\n",
       " ['gj04', '1', '', 'The more we study verbs, the crazier they get.'],\n",
       " ['gj04', '1', '', 'Day by day the facts are getting murkier.'],\n",
       " ['gj04', '1', '', \"I'll fix you a drink.\"],\n",
       " ['gj04', '1', '', 'Fred watered the plants flat.'],\n",
       " ['gj04', '1', '', 'Bill coughed his way out of the restaurant.'],\n",
       " ['gj04', '1', '', \"We're dancing the night away.\"],\n",
       " ['gj04', '1', '', 'Herman hammered the metal flat.']]"
      ]
     },
     "execution_count": 5,
     "metadata": {},
     "output_type": "execute_result"
    }
   ],
   "source": [
    "train_file = cola_path / \"in_domain_train.tsv\"\n",
    "train_data = read_cola_tsv(train_file)\n",
    "train_data[:10]"
   ]
  },
  {
   "cell_type": "code",
   "execution_count": 6,
   "metadata": {},
   "outputs": [],
   "source": [
    "save_cola_data_in_fairseq_format(train_data, filename=\"in_domain.train\")  # will also create label file"
   ]
  },
  {
   "cell_type": "code",
   "execution_count": 7,
   "metadata": {},
   "outputs": [
    {
     "name": "stdout",
     "output_type": "stream",
     "text": [
      "Our friends won't buy this analysis, let alone the next one we propose.\n",
      "One more pseudo generalization and I'm giving up.\n",
      "One more pseudo generalization or I'm giving up.\n",
      "The more we study verbs, the crazier they get.\n",
      "Day by day the facts are getting murkier.\n",
      "I'll fix you a drink.\n",
      "Fred watered the plants flat.\n",
      "Bill coughed his way out of the restaurant.\n",
      "We're dancing the night away.\n",
      "Herman hammered the metal flat.\n",
      "\n",
      "1\n",
      "1\n",
      "1\n",
      "1\n",
      "1\n",
      "1\n",
      "1\n",
      "1\n",
      "1\n",
      "1\n",
      "\n",
      "  8551 in_domain.train\n",
      "  8551 in_domain.train.lbl\n",
      " 17102 insgesamt\n"
     ]
    }
   ],
   "source": [
    "%%bash\n",
    "head in_domain.train\n",
    "echo \"\"\n",
    "head in_domain.train.lbl\n",
    "echo \"\"\n",
    "wc -l in_domain.train*"
   ]
  },
  {
   "cell_type": "code",
   "execution_count": 8,
   "metadata": {},
   "outputs": [
    {
     "data": {
      "text/plain": [
       "[['gj04', '1', '', 'The sailors rode the breeze clear of the rocks.'],\n",
       " ['gj04', '1', '', 'The weights made the rope stretch over the pulley.'],\n",
       " ['gj04', '1', '', 'The mechanical doll wriggled itself loose.'],\n",
       " ['cj99', '1', '', 'If you had eaten more, you would want less.'],\n",
       " ['cj99', '0', '*', 'As you eat the most, you want the least.'],\n",
       " ['cj99', '0', '*', 'The more you would want, the less you would eat.'],\n",
       " ['cj99', '0', '*', 'I demand that the more John eat, the more he pays.'],\n",
       " ['cj99', '1', '', 'Mary listens to the Grateful Dead, she gets depressed.'],\n",
       " ['cj99', '1', '', 'The angrier Mary got, the more she looked at pictures.'],\n",
       " ['cj99', '1', '', 'The higher the stakes, the lower his expectations are.']]"
      ]
     },
     "execution_count": 8,
     "metadata": {},
     "output_type": "execute_result"
    }
   ],
   "source": [
    "dev_file = cola_path / \"in_domain_dev.tsv\"\n",
    "dev_data = read_cola_tsv(dev_file)\n",
    "dev_data[:10]"
   ]
  },
  {
   "cell_type": "code",
   "execution_count": 9,
   "metadata": {},
   "outputs": [],
   "source": [
    "save_cola_data_in_fairseq_format(dev_data, filename=\"in_domain.dev\")"
   ]
  },
  {
   "cell_type": "code",
   "execution_count": 10,
   "metadata": {},
   "outputs": [
    {
     "name": "stdout",
     "output_type": "stream",
     "text": [
      "The sailors rode the breeze clear of the rocks.\n",
      "The weights made the rope stretch over the pulley.\n",
      "The mechanical doll wriggled itself loose.\n",
      "If you had eaten more, you would want less.\n",
      "As you eat the most, you want the least.\n",
      "The more you would want, the less you would eat.\n",
      "I demand that the more John eat, the more he pays.\n",
      "Mary listens to the Grateful Dead, she gets depressed.\n",
      "The angrier Mary got, the more she looked at pictures.\n",
      "The higher the stakes, the lower his expectations are.\n",
      "\n",
      "1\n",
      "1\n",
      "1\n",
      "1\n",
      "0\n",
      "0\n",
      "0\n",
      "1\n",
      "1\n",
      "1\n",
      "\n",
      "  527 in_domain.dev\n",
      "  527 in_domain.dev.lbl\n",
      " 1054 insgesamt\n"
     ]
    }
   ],
   "source": [
    "%%bash\n",
    "head in_domain.dev\n",
    "echo \"\"\n",
    "head in_domain.dev.lbl\n",
    "echo \"\"\n",
    "wc -l in_domain.dev*"
   ]
  },
  {
   "cell_type": "code",
   "execution_count": 11,
   "metadata": {},
   "outputs": [
    {
     "data": {
      "text/plain": [
       "[['clc95', '1', '', 'Somebody just left - guess who.'],\n",
       " ['clc95',\n",
       "  '1',\n",
       "  '',\n",
       "  \"They claimed they had settled on something, but it wasn't clear what they had settled on.\"],\n",
       " ['clc95', '1', '', 'If Sam was going, Sally would know where.'],\n",
       " ['clc95',\n",
       "  '1',\n",
       "  '',\n",
       "  \"They're going to serve the guests something, but it's unclear what.\"],\n",
       " ['clc95', '1', '', \"She's reading. I can't imagine what.\"],\n",
       " ['clc95', '1', '', 'John said Joan saw someone from her graduating class.'],\n",
       " ['clc95', '0', '*', \"John ate dinner but I don't know who.\"],\n",
       " ['clc95', '0', '*', \"She mailed John a letter, but I don't know to whom.\"],\n",
       " ['clc95', '1', '', 'I served leek soup to my guests.'],\n",
       " ['clc95', '1', '', 'I served my guests.']]"
      ]
     },
     "execution_count": 11,
     "metadata": {},
     "output_type": "execute_result"
    }
   ],
   "source": [
    "outdomain_dev_file = cola_path / \"out_of_domain_dev.tsv\"\n",
    "outdomain_dev_data = read_cola_tsv(outdomain_dev_file)\n",
    "outdomain_dev_data[:10]"
   ]
  },
  {
   "cell_type": "code",
   "execution_count": 12,
   "metadata": {},
   "outputs": [],
   "source": [
    "save_cola_data_in_fairseq_format(outdomain_dev_data, filename=\"out_domain.dev\")"
   ]
  },
  {
   "cell_type": "code",
   "execution_count": 13,
   "metadata": {},
   "outputs": [
    {
     "name": "stdout",
     "output_type": "stream",
     "text": [
      "Somebody just left - guess who.\n",
      "They claimed they had settled on something, but it wasn't clear what they had settled on.\n",
      "If Sam was going, Sally would know where.\n",
      "They're going to serve the guests something, but it's unclear what.\n",
      "She's reading. I can't imagine what.\n",
      "John said Joan saw someone from her graduating class.\n",
      "John ate dinner but I don't know who.\n",
      "She mailed John a letter, but I don't know to whom.\n",
      "I served leek soup to my guests.\n",
      "I served my guests.\n",
      "\n",
      "1\n",
      "1\n",
      "1\n",
      "1\n",
      "1\n",
      "1\n",
      "0\n",
      "0\n",
      "1\n",
      "1\n",
      "\n",
      "  516 out_domain.dev\n",
      "  516 out_domain.dev.lbl\n",
      " 1032 insgesamt\n"
     ]
    }
   ],
   "source": [
    "%%bash\n",
    "head out_domain.dev\n",
    "echo \"\"\n",
    "head out_domain.dev.lbl\n",
    "echo \"\"\n",
    "wc -l out_domain.dev*"
   ]
  },
  {
   "cell_type": "code",
   "execution_count": null,
   "metadata": {},
   "outputs": [],
   "source": []
  }
 ],
 "metadata": {
  "kernelspec": {
   "display_name": "Python 3",
   "language": "python",
   "name": "python3"
  },
  "language_info": {
   "codemirror_mode": {
    "name": "ipython",
    "version": 3
   },
   "file_extension": ".py",
   "mimetype": "text/x-python",
   "name": "python",
   "nbconvert_exporter": "python",
   "pygments_lexer": "ipython3",
   "version": "3.7.3"
  }
 },
 "nbformat": 4,
 "nbformat_minor": 4
}
